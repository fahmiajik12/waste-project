import pandas as pd
from IPython.display import display

# 1. Membaca file Excel
file_path = 'datatimbangan2019-2023_dengan_kecamatan.xlsx'
df = pd.read_excel(file_path)

# 2. Menampilkan 5 baris pertama
print("5 Baris Pertama:")
display(df.head())

# 3. Menampilkan 5 baris terakhir
print("\n5 Baris Terakhir:")
display(df.tail())

# 4. Menampilkan daftar kolom
print("\nDaftar Kolom:")
display(df.columns.tolist())

# 5. Menampilkan informasi struktur data
print("\nInfo Struktur Data:")
df_info = df.info()  # info() tidak mengembalikan objek, jadi cukup dengan print()

# 6. Statistik deskriptif untuk data numerik
print("\nStatistik Deskriptif (Numerik):")
display(df.describe())

# 7. Statistik deskriptif untuk data non-numerik
print("\nStatistik Deskriptif (Non-Numerik):")
display(df.describe(include='object'))

# 8. Jumlah nilai null di setiap kolom
print("\nJumlah Data Null per Kolom:")
display(df.isnull().sum())

# 9. Persentase nilai null di setiap kolom
print("\nPersentase Data Null per Kolom:")
display((df.isnull().mean() * 100).round(2))

# 10. Menampilkan semua baris dengan nilai Kecamatan yang kosong
print("\nSemua Baris dengan Nilai 'Kecamatan' Kosong:")
# Mengatur agar semua baris bisa ditampilkan
pd.set_option('display.max_rows', None)

# Filter baris dengan Kecamatan kosong
kecamatan_kosong = df[df['Kecamatan'].isnull()]
display(kecamatan_kosong)

# 11. Menyimpan hasil ke file Excel dan CSV
kecamatan_kosong.to_excel('kecamatan_kosong.xlsx', index=False)
kecamatan_kosong.to_csv('kecamatan_kosong.csv', index=False)
