import pandas as pd
import matplotlib.pyplot as plt
import seaborn as sns
import plotly.express as px
import warnings

warnings.filterwarnings('ignore')

# ===========================================
# 1. Load dan Persiapan Data
# ===========================================
file_path = 'datatimbangan_kecamatan_bersih.xlsx'
df = pd.read_excel(file_path)

# Pastikan kolom tanggal dalam format datetime dan ambil tahunnya
df['Tanggal'] = pd.to_datetime(df['Tanggal'], errors='coerce')
df['Tahun'] = df['Tanggal'].dt.year

# Filter hanya untuk tahun 2019 hingga 2023
df = df[df['Tahun'].isin([2019, 2020, 2021, 2022, 2023])]

# Pastikan kolom penting ada
required_cols = ['Kecamatan', 'Musim', 'SUPPLIER', 'Netto_kg', 'Tahun']
assert all(col in df.columns for col in required_cols), "Kolom tidak lengkap!"

# ===========================================
# 2. Barplot Total Berat Sampah per Kecamatan dan Musim
# ===========================================

df['Tahun_Musim'] = df['Tahun'].astype(str) + ' - ' + df['Musim']

plt.figure(figsize=(22, 10))
sns.barplot(data=df, x='Kecamatan', y='Netto_kg', hue='Tahun_Musim', estimator=sum, ci=None, palette='tab20')
plt.title('Total Berat Sampah per Kecamatan berdasarkan Tahun dan Musim (2019–2023)', fontsize=16)
plt.ylabel('Total Berat Sampah (kg)', fontsize=12)
plt.xlabel('Kecamatan', fontsize=12)
plt.xticks(rotation=45, ha='right')
plt.legend(title='Tahun - Musim', bbox_to_anchor=(1.05, 1), loc='upper left')
plt.tight_layout()
plt.grid(axis='y', linestyle='--', alpha=0.5)
plt.show()


# ===========================================
# 3. Sunburst Chart: Tahun > Kecamatan > Supplier
# ===========================================
sunburst_data = df.groupby(['Tahun', 'Kecamatan', 'SUPPLIER'])['Netto_kg'].sum().reset_index()

fig = px.sunburst(
    sunburst_data,
    path=['Tahun', 'Kecamatan', 'SUPPLIER'],
    values='Netto_kg',
    color='Netto_kg',
    color_continuous_scale='YlOrRd',
    title='Distribusi Berat Sampah per Tahun > Kecamatan > Supplier',
    width=900,
    height=800
)
fig.show()

# ===========================================
# 4. Boxplot Berat Sampah berdasarkan Musim dan Supplier
# ===========================================
plt.figure(figsize=(18, 8))
sns.boxplot(data=df, x='Musim', y='Netto_kg', hue='SUPPLIER', palette='Set3')
plt.title('Distribusi Berat Sampah berdasarkan Musim dan Supplier (2019–2023)', fontsize=16)
plt.ylabel('Berat Sampah (Kg)')
plt.xlabel('Musim')
plt.legend(title='Supplier', bbox_to_anchor=(1.05, 1), loc='upper left')
plt.tight_layout()
plt.grid(axis='y', linestyle='--', alpha=0.5)
plt.show()

# ===========================================
# 5. Heatmap Berat Sampah per Kecamatan dan Musim per Tahun (2019–2023)
# ===========================================
tahun_list = sorted(df['Tahun'].unique())
n_years = len(tahun_list)

# Atur subplot grid: 2 baris jika lebih dari 3 tahun
rows = 2 if n_years > 3 else 1
cols = (n_years + 1) // 2 if rows == 2 else n_years

fig, axes = plt.subplots(rows, cols, figsize=(20, 10), sharey=True)
axes = axes.flatten()  # Agar mudah diakses

for i, tahun in enumerate(tahun_list):
    data_tahun = df[df['Tahun'] == tahun]
    pivot_musim = data_tahun.pivot_table(index='Kecamatan', columns='Musim', values='Netto_kg', aggfunc='sum', fill_value=0)

    sns.heatmap(
        pivot_musim,
        annot=True,
        fmt='.0f',
        cmap='coolwarm',
        linewidths=.5,
        cbar=i == 0,
        cbar_kws={'label': 'Berat (Kg)'} if i == 0 else {},
        ax=axes[i]
    )
    axes[i].set_title(f'Tahun {tahun}', fontsize=14)
    axes[i].set_ylabel('Kecamatan')
    axes[i].set_xlabel('Musim')
    axes[i].tick_params(axis='x', rotation=45)

# Hapus subplot kosong jika jumlah tahun ganjil
for j in range(i + 1, len(axes)):
    fig.delaxes(axes[j])

plt.suptitle('Heatmap Berat Sampah per Kecamatan dan Musim (2019–2023)', fontsize=18)
plt.tight_layout(rect=[0, 0, 1, 0.95])
plt.show()
