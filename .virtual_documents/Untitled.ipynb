import pandas as pd
from IPython.display import display

# 1. Membaca file Excel
file_path = 'datatimbangan_dengan_musim.xlsx'
df = pd.read_excel(file_path)

# 2. Menampilkan nilai unik sebelum dibersihkan
print("Nilai Unik 'Kecamatan' Sebelum Dibersihkan:")
display(df['Kecamatan'].unique())

# 3. Membersihkan spasi di awal/akhir pada seluruh kolom 'Kecamatan'
df['Kecamatan'] = df['Kecamatan'].str.strip()

# 4. Menampilkan nilai unik setelah dibersihkan
print("\nNilai Unik 'Kecamatan' Setelah Dibersihkan:")
display(df['Kecamatan'].unique())

# 5. Simpan hasilnya ke file baru
output_excel = 'datatimbangan_kecamatan_bersih.xlsx'
output_csv = 'datatimbangan_kecamatan_bersih.csv'

df.to_excel(output_excel, index=False)
df.to_csv(output_csv, index=False)

print(f"\nData bersih sudah disimpan ke:\n- {output_excel}\n- {output_csv}")


df.describe


print("\nCek Jumlah dan Kemunculan Masing-masing Kecamatan:")
display(df['Kecamatan'].value_counts())



