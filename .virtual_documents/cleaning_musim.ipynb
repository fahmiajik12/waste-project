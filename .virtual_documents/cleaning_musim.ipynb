import pandas as pd
import matplotlib.pyplot as plt
import seaborn as sns

# 1. Baca file Excel
file_path = "datatimbangan2019-2023_dengan_kecamatan.xlsx"
df = pd.read_excel(file_path)

# 2. Hapus data yang mengandung missing value
df_clean = df.dropna()

# 3. Fungsi untuk menentukan musim berdasarkan bulan
def tentukan_musim(bulan):
    if 4 <= bulan <= 9:
        return "Kemarau"
    else:
        return "Hujan"

# 4. Tambahkan kolom "Musim"
df_clean["Musim"] = df_clean["Bulan"].apply(tentukan_musim)

# 5. EDA: Visualisasi distribusi data berdasarkan musim
musim_counts = df_clean["Musim"].value_counts()
plt.figure(figsize=(6,4))
sns.barplot(x=musim_counts.index, y=musim_counts.values, palette="viridis")
plt.title("Distribusi Data Timbangan per Musim")
plt.xlabel("Musim")
plt.ylabel("Jumlah Data")
plt.tight_layout()
plt.show()

# 6. Simpan hasil ke file Excel baru
df_clean.to_excel("datatimbangan_dengan_musim.xlsx", index=False)

# 1. Tampilkan 5 baris pertama
print("===== HEAD (5 Baris Pertama) =====")
print(df_clean.head(), "\n")

# 2. Dimensi DataFrame
print("===== SHAPE =====")
print(f"Jumlah Baris: {df_clean.shape[0]}, Jumlah Kolom: {df_clean.shape[1]}\n")

# 3. Informasi kolom dan tipe data
print("===== INFO =====")
print(df_clean.info(), "\n")

# 4. Jumlah missing value per kolom
print("===== MISSING VALUES =====")
print(df_clean.isnull().sum(), "\n")

# 5. Statistik deskriptif lengkap
print("===== DESCRIPTIVE STATISTICS =====")
print(df_clean.describe(include='all'), "\n")

# 6. Jumlah nilai unik per kolom
print("===== UNIQUE VALUE COUNTS =====")
for col in df_clean.columns:
    print(f"{col}: {df_clean[col].nunique()} nilai unik")

# 7. Contoh nilai unik untuk kolom kategorik
print("\n===== SAMPLE UNIQUE VALUES (KATEGORIK) =====")
for col in df_clean.select_dtypes(include='object').columns:
    print(f"{col}: {df_clean[col].unique()[:5]}")  # tampilkan hanya 5 nilai unik pertama



