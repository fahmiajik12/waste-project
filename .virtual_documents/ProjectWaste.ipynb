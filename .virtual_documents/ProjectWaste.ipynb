# ========================================
# Import Libraries
# ========================================
import pandas as pd
import numpy as np
import matplotlib.pyplot as plt
import seaborn as sns
import missingno as msno
from sklearn.preprocessing import MinMaxScaler
from sklearn.metrics import mean_squared_error, mean_absolute_error
import tensorflow as tf
from tensorflow.keras.models import Sequential
from tensorflow.keras.layers import LSTM, Dense, Dropout
from tensorflow.keras.callbacks import EarlyStopping
import matplotlib.dates as mdates
from matplotlib.table import Table
import warnings

warnings.filterwarnings('ignore')
sns.set(style="whitegrid")
plt.rcParams["figure.figsize"] = (14, 5)

# ========================================
# Load Dataset
# ========================================
df = pd.read_excel("datatimbangan-clean.xlsx", skiprows=1)
df.columns = ['Tanggal', 'Hari', 'Bulan', 'Tahun', 'No_Polisi', 'jenis_sampah', 'Suplier',
              'Netto_kg', 'Jam', 'Sopir', 'Admin','Kecamatan','Musim']

# ========================================
# EDA: Data Overview
# ========================================
print(" Head:")
print(df.head())

print("\n Info:")
print(df.info())

print("\n Descriptive Statistics:")
print(df.describe())

print("\n Missing Values Count:")
print(df.isnull().sum())

# ========================================
# Data Cleaning
# ========================================
df['Tanggal'] = pd.to_datetime(df['Tanggal'], errors='coerce')
df['Netto_kg'] = pd.to_numeric(df['Netto_kg'], errors='coerce')
df = df.dropna(subset=['Tanggal', 'Netto_kg'])

# ========================================
# Aggregasi Harian & Filter Tahun
# ========================================
daily = df.groupby('Tanggal')['Netto_kg'].sum().reset_index()
daily = daily[(daily['Tanggal'].dt.year >= 2021) & (daily['Tanggal'].dt.year <= 2022)]

full_range = pd.date_range(start="2021-01-01", end="2022-12-31")
daily_full = pd.DataFrame({'Tanggal': full_range})
daily = pd.merge(daily_full, daily, on='Tanggal', how='left')
daily['Netto_kg'] = daily['Netto_kg'].fillna(method='ffill')

# ========================================
# Visualisasi Tren Waktu
# ========================================

# kolom tanggal datetime
daily['Tanggal'] = pd.to_datetime(daily['Tanggal'])

# Hari Raya
hari_raya_dict_2021 = {
    '2021-01-01': 'Tahun Baru Masehi',
    '2021-02-12': 'Imlek',
    '2021-03-14': 'Nyepi',
    '2021-04-02': 'Wafat Isa Almasih',
    '2021-05-01': 'Hari Buruh',
    '2021-05-13': 'Idul Fitri (1)',
    '2021-05-14': 'Idul Fitri (2)',
    '2021-05-26': 'Waisak',
    '2021-07-20': 'Idul Adha',
    '2021-08-10': '1 Muharram',
    '2021-08-17': 'Hari Kemerdekaan',
    '2021-10-19': 'Maulid Nabi',
    '2021-12-25': 'Natal'
}
hari_raya_dict_2022 = {
    '2022-01-01': 'Tahun Baru Masehi',
    '2022-02-01': 'Imlek',
    '2022-03-03': 'Nyepi',
    '2022-04-15': 'Wafat Isa Almasih',
    '2022-05-01': 'Hari Buruh',
    '2022-05-02': 'Idul Fitri (1)',
    '2022-05-03': 'Idul Fitri (2)',
    '2022-05-16': 'Waisak',
    '2022-07-09': 'Idul Adha',
    '2022-07-30': '1 Muharram',
    '2022-08-17': 'Hari Kemerdekaan',
    '2022-10-08': 'Maulid Nabi',
    '2022-12-25': 'Natal'
}

def plot_tahun(daily_df, tahun, hari_raya_dict):
    hari_raya_df = pd.DataFrame({
        'Tanggal': pd.to_datetime(list(hari_raya_dict.keys())),
        'Nama_Hari_Raya': list(hari_raya_dict.values())
    })

    data_tahun = daily_df[daily_df['Tanggal'].dt.year == tahun]

    fig, ax = plt.subplots(figsize=(18, 8))
    sns.lineplot(data=data_tahun, x='Tanggal', y='Netto_kg',
                 color='blue' if tahun == 2021 else 'green', ax=ax)
    ax.set_title(f'Tren Volume Sampah {tahun}')
    ax.set_xlabel("Tanggal")
    ax.set_ylabel("Netto (kg)")
    ax.grid(True)

    # Statistik penting
    max_row = data_tahun.loc[data_tahun['Netto_kg'].idxmax()]
    min_row = data_tahun.loc[data_tahun['Netto_kg'].idxmin()]
    mean_value = data_tahun['Netto_kg'].mean()
    mean_date = data_tahun['Tanggal'].iloc[len(data_tahun) // 2]
    mean_day = mean_date.strftime('%A')

    # Fungsi untuk anotasi atau panah 
    def anotasi_kanan(x, y, teks, warna):
        ax.annotate(
            teks,
            xy=(x, y),
            xytext=(x + pd.Timedelta(days=20), y),
            arrowprops=dict(
                arrowstyle="->",
                color=warna,
                lw=2,
                connectionstyle="arc3"
            ),
            fontsize=10, color=warna, ha='left', weight='bold'
        )

    # Anotasi titik penting
    anotasi_kanan(max_row['Tanggal'], max_row['Netto_kg'],
                  f"Tertinggi\n{max_row['Tanggal'].date()} ({max_row['Tanggal'].strftime('%A')})\n{max_row['Netto_kg']:.0f} kg", 'red')
    anotasi_kanan(min_row['Tanggal'], min_row['Netto_kg'],
                  f"Terendah\n{min_row['Tanggal'].date()} ({min_row['Tanggal'].strftime('%A')})\n{min_row['Netto_kg']:.0f} kg", 'blue')
    anotasi_kanan(mean_date, mean_value,
                  f"Rata-rata\n{mean_date.date()} ({mean_day})\n{mean_value:.0f} kg", 'purple')

    # Anotasi Hari Raya
    tabel_hari_raya = []
    for _, row in hari_raya_df.iterrows():
        tanggal_h = row['Tanggal']
        nama = row['Nama_Hari_Raya']

        for offset, label in zip([0, 7], ['(H)', '(+7h)']):
            tgl = tanggal_h + pd.Timedelta(days=offset)
            if tgl in data_tahun['Tanggal'].values:
                nilai = data_tahun.loc[data_tahun['Tanggal'] == tgl, 'Netto_kg'].values[0]
                hari = tgl.strftime('%A')

                anotasi_kanan(
                    tgl, nilai,
                    f"{nama} {label}\n{tgl.date()} ({hari})\n{nilai:.0f} kg",
                    'darkorange' if label == '(H)' else 'dimgray'
                )

                tabel_hari_raya.append({
                    'Nama Hari Raya': nama,
                    'Label': label,
                    'Tanggal': tgl.date(),
                    'Hari': hari,
                    'Netto_kg': round(nilai, 2),
                    'Tahun': tahun
                })

    plt.tight_layout()
    plt.show()
    return pd.DataFrame(tabel_hari_raya)

# ===============================
# Visualisasi untuk 2021 dan 2022
# ===============================
df_2021 = plot_tahun(daily, 2021, hari_raya_dict_2021)
df_2022 = plot_tahun(daily, 2022, hari_raya_dict_2022)

tabel_all = pd.concat([df_2021, df_2022])
tabel_all = tabel_all[['Tahun', 'Nama Hari Raya', 'Label', 'Tanggal', 'Hari', 'Netto_kg']]
display(tabel_all.sort_values(by=['Tahun', 'Tanggal', 'Label']))

tabel_all.to_csv("tabel_hari_raya_volume_sampah.csv", index=False)

# Membaca data dari file CSV
df = pd.read_csv("tabel_hari_raya_volume_sampah.csv")

# Filter data untuk label '(H)' (tanpa +7h)
df_hari_raya = df[df['Label'] == '(H)']

# Mencari nilai sampah tertinggi, terendah, dan rata-rata untuk setiap tahun
result = {
    'Tahun': [],
    'Hari Raya dengan Sampah Tertinggi': [],
    'Netto_kg Tertinggi': [],
    'Hari Raya dengan Sampah Terendah': [],
    'Netto_kg Terendah': [],
    'Rata-rata Netto_kg': []
}

for tahun in df_hari_raya['Tahun'].unique():
    subset = df_hari_raya[df_hari_raya['Tahun'] == tahun]
    
    # Hari raya dengan sampah tertinggi dan terendah
    max_row = subset.loc[subset['Netto_kg'].idxmax()]
    min_row = subset.loc[subset['Netto_kg'].idxmin()]
    
    result['Tahun'].append(tahun)
    result['Hari Raya dengan Sampah Tertinggi'].append(max_row['Nama Hari Raya'])
    result['Netto_kg Tertinggi'].append(max_row['Netto_kg'])
    result['Hari Raya dengan Sampah Terendah'].append(min_row['Nama Hari Raya'])
    result['Netto_kg Terendah'].append(min_row['Netto_kg'])
    result['Rata-rata Netto_kg'].append(subset['Netto_kg'].mean())

# Menyusun hasil analisis ke dalam DataFrame
summary_df = pd.DataFrame(result)

# Simpan hasil analisis ke CSV
summary_df.to_csv("ringkasan_hari_raya_sampah.csv", index=False)

# Menampilkan grafik volume sampah
plt.figure(figsize=(12,6))
for tahun in df_hari_raya['Tahun'].unique():
    subset = df_hari_raya[df_hari_raya['Tahun'] == tahun]
    plt.plot(subset['Nama Hari Raya'], subset['Netto_kg'], marker='o', label=f"{tahun}")

plt.xticks(rotation=45, ha='right')
plt.ylabel("Volume Sampah (kg)")
plt.title("Volume Sampah pada Hari Raya (Label = H)")
plt.legend()
plt.tight_layout()
plt.grid(True)
plt.show()

# ========================================
# Scaling dan Sequence Data
# ========================================
scaler = MinMaxScaler()
scaled_data = scaler.fit_transform(daily[['Netto_kg']])

train = scaled_data[daily['Tanggal'].dt.year == 2021]
test = scaled_data[daily['Tanggal'].dt.year == 2022]

def create_sequences(data, seq_length=30):
    X, y = [], []
    for i in range(seq_length, len(data)):
        X.append(data[i-seq_length:i])
        y.append(data[i])
    return np.array(X), np.array(y)

seq_len = 30
X_train, y_train = create_sequences(train, seq_len)
X_test, y_test = create_sequences(test, seq_len)

# ========================================
# Konfigurasi LSTM dengan 9 kombinasi
# ========================================
configs = [
    {"epochs": 50, "batch_size": 8},
    {"epochs": 50, "batch_size": 16},
    {"epochs": 50, "batch_size": 32},
    {"epochs": 75, "batch_size": 8},
    {"epochs": 75, "batch_size": 16},
    {"epochs": 75, "batch_size": 32},
    {"epochs": 100, "batch_size": 8},
    {"epochs": 100, "batch_size": 16},
    {"epochs": 100, "batch_size": 32},
]

results = []
histories = []
predictions = []

for i, config in enumerate(configs, 1):
    print(f"\n===============================\nTraining Model {i} | Epochs: {config['epochs']}, Batch Size: {config['batch_size']}")

    # Model dengan 4 LSTM layer bertingkat
    model = Sequential()
    model.add(LSTM(units=50, return_sequences=True, input_shape=(X_train.shape[1], 1)))
    model.add(Dropout(0.2))
    model.add(LSTM(units=50, return_sequences=True))
    model.add(Dropout(0.2))
    model.add(LSTM(units=50, return_sequences=True))
    model.add(Dropout(0.2))
    model.add(LSTM(units=50))
    model.add(Dropout(0.2))
    model.add(Dense(units=1))

    model.compile(optimizer='adam', loss='mse')

    history = model.fit(
        X_train, y_train,
        epochs=config['epochs'],
        batch_size=config['batch_size'],
        validation_split=0.1,
        verbose=1  # Aktifkan log saat training
    )
    histories.append(history)

    # Prediksi
    y_pred = model.predict(X_test)
    y_pred_inv = scaler.inverse_transform(y_pred)
    y_test_inv = scaler.inverse_transform(y_test)
    predictions.append((y_test_inv, y_pred_inv))

    rmse = np.sqrt(mean_squared_error(y_test_inv, y_pred_inv))
    mae = mean_absolute_error(y_test_inv, y_pred_inv)
    final_epoch = len(history.history['loss'])

    print(f"\nModel {i} - RMSE: {rmse:.2f}, MAE: {mae:.2f}, Iterasi: {final_epoch}\n")

    results.append({
        "Model": f"Model {i}",
        "Epochs": config['epochs'],
        "Batch Size": config['batch_size'],
        "Iterasi": final_epoch,
        "RMSE": rmse,
        "MAE": mae
    })

# ========================================
# Tampilkan hasil dalam bentuk tabel
# ========================================
import pandas as pd

df_results = pd.DataFrame(results)
print("\nHasil Evaluasi Model:")
print(df_results.to_string(index=False))

# ========================================
# Visualisasi Loss Training & Validation
# ========================================
import matplotlib.pyplot as plt
import math

num_models = len(histories)
cols = 2
rows = math.ceil(num_models / cols)

plt.figure(figsize=(16, 3 * rows))
for i, history in enumerate(histories, 1):
    plt.subplot(rows, cols, i)
    plt.plot(history.history['loss'], label='Loss')
    plt.plot(history.history['val_loss'], label='Val Loss')
    plt.title(f'Model {i} Loss per Epoch')
    plt.xlabel('Epoch')
    plt.ylabel('Loss')
    plt.legend()
    plt.grid(True)
plt.tight_layout()
plt.show()

# ========================================
# Visualisasi Prediksi vs Aktual
# ========================================
tanggal_pred = daily[daily['Tanggal'].dt.year == 2022]['Tanggal'].iloc[seq_len:].reset_index(drop=True)

for i, (y_true, y_pred) in enumerate(predictions, 1):
    plt.figure(figsize=(18, 5))
    plt.plot(tanggal_pred, y_true, label="Aktual", color='blue')
    plt.plot(tanggal_pred, y_pred, label="Prediksi", color='red')
    plt.title(f"Model {i} - Prediksi vs Aktual Volume Sampah Tahun 2022")
    plt.xlabel("Tanggal")
    plt.ylabel("Netto (kg)")
    plt.legend()
    plt.grid(True)
    plt.show()


# ========================================
# Simpan Model dengan RMSE Terbaik
# ========================================
# Cari model terbaik (RMSE terendah)
best_model_index = df_results['RMSE'].idxmin()
best_config = configs[best_model_index]
best_model = histories[best_model_index].model

# Simpan model
best_model.save("model_lstm_volume_sampah_terbaik.h5")
print(f"Model terbaik (Model {best_model_index + 1}) disimpan sebagai 'model_lstm_volume_sampah_terbaik.h5'")
