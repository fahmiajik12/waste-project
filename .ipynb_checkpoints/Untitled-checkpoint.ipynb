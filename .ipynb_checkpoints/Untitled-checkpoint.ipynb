{
 "cells": [
  {
   "cell_type": "code",
   "execution_count": 1,
   "id": "e23ed460-a24d-4148-b7e4-85d261b97e13",
   "metadata": {},
   "outputs": [
    {
     "name": "stdout",
     "output_type": "stream",
     "text": [
      "Nilai Unik 'Kecamatan' Sebelum Dibersihkan:\n"
     ]
    },
    {
     "data": {
      "text/plain": [
       "array(['Magelang Selatan ', 'Magelang Utara', 'Kecamatan Tegalrejo',\n",
       "       'Magelang Tengah', 'Magelang Selatan', nan], dtype=object)"
      ]
     },
     "metadata": {},
     "output_type": "display_data"
    },
    {
     "name": "stdout",
     "output_type": "stream",
     "text": [
      "\n",
      "Nilai Unik 'Kecamatan' Setelah Dibersihkan:\n"
     ]
    },
    {
     "data": {
      "text/plain": [
       "array(['Magelang Selatan', 'Magelang Utara', 'Kecamatan Tegalrejo',\n",
       "       'Magelang Tengah', nan], dtype=object)"
      ]
     },
     "metadata": {},
     "output_type": "display_data"
    },
    {
     "name": "stdout",
     "output_type": "stream",
     "text": [
      "\n",
      "Data bersih sudah disimpan ke:\n",
      "- datatimbangan_kecamatan_bersih.xlsx\n",
      "- datatimbangan_kecamatan_bersih.csv\n"
     ]
    }
   ],
   "source": [
    "import pandas as pd\n",
    "from IPython.display import display\n",
    "\n",
    "# 1. Membaca file Excel\n",
    "file_path = 'datatimbangan_dengan_musim.xlsx'\n",
    "df = pd.read_excel(file_path)\n",
    "\n",
    "# 2. Menampilkan nilai unik sebelum dibersihkan\n",
    "print(\"Nilai Unik 'Kecamatan' Sebelum Dibersihkan:\")\n",
    "display(df['Kecamatan'].unique())\n",
    "\n",
    "# 3. Membersihkan spasi di awal/akhir pada seluruh kolom 'Kecamatan'\n",
    "df['Kecamatan'] = df['Kecamatan'].str.strip()\n",
    "\n",
    "# 4. Menampilkan nilai unik setelah dibersihkan\n",
    "print(\"\\nNilai Unik 'Kecamatan' Setelah Dibersihkan:\")\n",
    "display(df['Kecamatan'].unique())\n",
    "\n",
    "# 5. Simpan hasilnya ke file baru\n",
    "output_excel = 'datatimbangan_kecamatan_bersih.xlsx'\n",
    "output_csv = 'datatimbangan_kecamatan_bersih.csv'\n",
    "\n",
    "df.to_excel(output_excel, index=False)\n",
    "df.to_csv(output_csv, index=False)\n",
    "\n",
    "print(f\"\\nData bersih sudah disimpan ke:\\n- {output_excel}\\n- {output_csv}\")"
   ]
  },
  {
   "cell_type": "code",
   "execution_count": 2,
   "id": "cc5f1b33-f5ae-4ba3-8161-b0e70f9872ae",
   "metadata": {},
   "outputs": [
    {
     "data": {
      "text/plain": [
       "<bound method NDFrame.describe of           Tanggal  Hari  Bulan  Tahun  No. Polisi  Barang  \\\n",
       "0      07/01/2023     7      1   2023  AA 8013 XA  Sampah   \n",
       "1      07/01/2023     7      1   2023  AB 9699 WE  Sampah   \n",
       "2      07/01/2023     7      1   2023  AA 8066 XA  Sampah   \n",
       "3      07/01/2023     7      1   2023  AA 1975 QH  Sampah   \n",
       "4      07/01/2023     7      1   2023  AA 1856 QK  Sampah   \n",
       "...           ...   ...    ...    ...         ...     ...   \n",
       "62542  03/01/2019     3      1   2019  AA 2331 YA  Sampah   \n",
       "62543  03/01/2019     3      1   2019  AA 9578 AA  Sampah   \n",
       "62544  03/01/2019     3      1   2019  AA 9577 FA  Sampah   \n",
       "62545  03/01/2019     3      1   2019  AA 9539 HA  Sampah   \n",
       "62546  03/01/2019     3      1   2019  AA 9530 HA  Sampah   \n",
       "\n",
       "                    SUPPLIER  Netto_kg    Jam     Sopir         Admin  \\\n",
       "0         PASAR REJOWINANGUN      1880  19:22     soleh  Kurniawan BW   \n",
       "1      PERUM DEPKES MAGELANG      1615  19:21   jatmiko  Kurniawan BW   \n",
       "2         DEPO TIDAR SELATAN      2190  19:20     yusuf  Kurniawan BW   \n",
       "3        SOROBAYAN BANYUURIP      1340  19:19      aris  Kurniawan BW   \n",
       "4            PASAR TEGALREJO      1550  19:18    seneng  Kurniawan BW   \n",
       "...                      ...       ...    ...       ...           ...   \n",
       "62542      DLH KOTA MAGELANG       610  11:21  MULYANTO     KURNIAWAN   \n",
       "62543      DLH KOTA MAGELANG       460  11:20   PRIYONO     KURNIAWAN   \n",
       "62544      DLH KOTA MAGELANG      1530  11:06         x     KURNIAWAN   \n",
       "62545      DLH KOTA MAGELANG      4600  10:58     HARTO     KURNIAWAN   \n",
       "62546      DLH KOTA MAGELANG      2310  10:51         x     KURNIAWAN   \n",
       "\n",
       "                 Kecamatan  \n",
       "0         Magelang Selatan  \n",
       "1           Magelang Utara  \n",
       "2         Magelang Selatan  \n",
       "3      Kecamatan Tegalrejo  \n",
       "4      Kecamatan Tegalrejo  \n",
       "...                    ...  \n",
       "62542       Magelang Utara  \n",
       "62543       Magelang Utara  \n",
       "62544       Magelang Utara  \n",
       "62545       Magelang Utara  \n",
       "62546       Magelang Utara  \n",
       "\n",
       "[62547 rows x 12 columns]>"
      ]
     },
     "execution_count": 2,
     "metadata": {},
     "output_type": "execute_result"
    }
   ],
   "source": [
    "df.describe"
   ]
  },
  {
   "cell_type": "code",
   "execution_count": null,
   "id": "dfbb02bf-c95b-49e8-aad1-f23a954ee200",
   "metadata": {},
   "outputs": [],
   "source": []
  }
 ],
 "metadata": {
  "kernelspec": {
   "display_name": "Python [conda env:base] *",
   "language": "python",
   "name": "conda-base-py"
  },
  "language_info": {
   "codemirror_mode": {
    "name": "ipython",
    "version": 3
   },
   "file_extension": ".py",
   "mimetype": "text/x-python",
   "name": "python",
   "nbconvert_exporter": "python",
   "pygments_lexer": "ipython3",
   "version": "3.12.7"
  }
 },
 "nbformat": 4,
 "nbformat_minor": 5
}
